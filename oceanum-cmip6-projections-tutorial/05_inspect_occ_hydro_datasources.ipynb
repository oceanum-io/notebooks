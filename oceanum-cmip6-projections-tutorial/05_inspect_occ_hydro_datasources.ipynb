{
 "cells": [
  {
   "cell_type": "markdown",
   "id": "cell-0",
   "metadata": {},
   "source": [
    "# Inspect Oceanum OCC CMIP6 Wave Datasources\n",
    "\n",
    "This notebook provides a comprehensive introduction to searching for and inspecting hydrodynamic\n",
    "model outputs from Oceanum's OCC oceanum climate projections available through Datamesh. \n",
    "\n",
    "## What You'll Learn\n",
    "\n",
    "By the end of this tutorial, you will understand how to:\n",
    "- Connect to the Datamesh API using the Oceanum Python client\n",
    "- Search for wave datasets using different strategies (keywords, tags, filters)\n",
    "- Understand the different types of wave data available (parameters, spectra, statistics)\n",
    "- Inspect dataset metadata to understand data structure and content\n",
    "- Navigate the CMIP6 climate projection datasets from Oceanum\n",
    "\n",
    "## Background: Oceanum's OCC CMIP6 Wave Model Data\n",
    "\n",
    "Oceanum provides high-resolution oceanum model outputs based on CMIP6 climate projections.\n",
    "The data includes:\n",
    "\n",
    "- **SCHISM (Semi-implicit Cross-scale Hydroscience Integrated System Model)**\n",
    "- **Wind forcing**: Global and NIWA downscale (CCAM) wind forcing data from CMIP6 ACCESS-CM2 and EC-Earth3 global climate models\n",
    "- **Time Periods**: Historical (1985-2015) and future projections (2015-2100) under different emission scenarios\n",
    "- **Shared Socioeconomic Pathways**: SSP245, SSP370\n",
    "- **Data Types**:\n",
    "  - **Parameters**: Three-hourly, integraded wave parameters over the full computational grid (height, period, direction, etc.)\n",
    "  - **Spectra**: Three-hourly, Frequency-direction 2D wave energy spectra at a large subset of grid points\n",
    "  - **Gridstats**: Statistical summaries and derived metrics\n",
    "\n",
    "### Required Python Libraries\n",
    "\n",
    "- [oceanum](https://oceanum-python.readthedocs.io/en/latest/): Python client for accessing Datamesh\n"
   ]
  },
  {
   "cell_type": "code",
   "execution_count": 2,
   "id": "cell-1",
   "metadata": {},
   "outputs": [],
   "source": [
    "import textwrap\n",
    "from oceanum.datamesh import Connector\n",
    "\n",
    "import warnings\n",
    "warnings.filterwarnings(\"ignore\")\n"
   ]
  },
  {
   "cell_type": "markdown",
   "id": "cell-2",
   "metadata": {},
   "source": [
    "## 1. Setting Up the Connection\n",
    "\n",
    "The [Connector](https://oceanum-python.readthedocs.io/en/latest/classes/datamesh/oceanum.datamesh.Connector.html) class provides access to methods for querying data and metadata from Datamesh.\n",
    "\n",
    "**Authentication**: You can provide your Datamesh token directly or set it as an environment variable `DATAMESH_TOKEN`.\n"
   ]
  },
  {
   "cell_type": "code",
   "execution_count": 3,
   "id": "cell-3",
   "metadata": {},
   "outputs": [],
   "source": [
    "conn = Connector(token=None)"
   ]
  },
  {
   "cell_type": "markdown",
   "id": "cell-4",
   "metadata": {},
   "source": [
    "## 2. Searching for Datasets\n",
    "\n",
    "The `get_catalog` method allows you to search for datasets using keywords that match against dataset names, descriptions, and tags.\n"
   ]
  },
  {
   "cell_type": "markdown",
   "id": "cell-5",
   "metadata": {},
   "source": [
    "### 2.1 Basic Keyword Search\n",
    "\n",
    "Let's start with a broad search to see all available Oceanum CMIP6 wave datasources:\n"
   ]
  },
  {
   "cell_type": "code",
   "execution_count": 4,
   "id": "cell-6",
   "metadata": {},
   "outputs": [
    {
     "name": "stdout",
     "output_type": "stream",
     "text": [
      "Found 6 datasets matching 'occ cmip6 wave'\n"
     ]
    },
    {
     "data": {
      "text/plain": [
       "[\n",
       "         Calypso CMIP6 SCHISM ACCESS-CM2 nz historical hydro parameters [calypso_cmip6_schism_nz_access_cm2_historical_r1i1p1f1_grid]\n",
       "             Extent: (163.73491587, -49.24794654, 182.32942388, -32.00917599)\n",
       "             Timerange: 1984-11-01 00:00:00+00:00 to 2015-01-01 00:00:00+00:00\n",
       "         ,\n",
       " \n",
       "         Calypso CMIP6 SCHISM ACCESS-CM2 nz ssp245 hydro parameters [calypso_cmip6_schism_nz_access_cm2_ssp245_r1i1p1f1_grid]\n",
       "             Extent: (163.73491587, -49.24794654, 182.32942388, -32.00917599)\n",
       "             Timerange: 2015-01-01 00:00:00+00:00 to 2025-09-15 23:35:27.470505+00:00\n",
       "         ,\n",
       " \n",
       "         Calypso CMIP6 SCHISM ACCESS-CM2 nz ssp370 hydro parameters [calypso_cmip6_schism_nz_access_cm2_ssp370_r1i1p1f1_grid]\n",
       "             Extent: (163.73491587, -49.24794654, 182.32942388, -32.00917599)\n",
       "             Timerange: 2015-01-01 00:00:00+00:00 to 2025-09-15 23:35:27.470505+00:00\n",
       "         ,\n",
       " \n",
       "         Calypso CMIP6 SCHISM EC-Earth3 nz historical hydro parameters [calypso_cmip6_schism_nz_ec_earth3_historical_r1i1p1f1_grid]\n",
       "             Extent: (163.73491587, -49.24794654, 182.32942388, -32.00917599)\n",
       "             Timerange: 1984-11-01 00:00:00+00:00 to 2015-01-01 00:00:00+00:00\n",
       "         ,\n",
       " \n",
       "         Calypso CMIP6 SCHISM EC-Earth3 nz ssp245 hydro parameters [calypso_cmip6_schism_nz_ec_earth3_ssp245_r1i1p1f1_grid]\n",
       "             Extent: (163.73491587, -49.24794654, 182.32942388, -32.00917599)\n",
       "             Timerange: 2015-01-01 00:00:00+00:00 to 2025-09-15 23:35:27.470505+00:00\n",
       "         ,\n",
       " \n",
       "         Calypso CMIP6 SCHISM EC-Earth3 nz ssp370 hydro parameters [calypso_cmip6_schism_nz_ec_earth3_ssp370_r1i1p1f1_grid]\n",
       "             Extent: (163.73491587, -49.24794654, 182.32942388, -32.00917599)\n",
       "             Timerange: 2015-01-01 00:00:00+00:00 to 2025-09-15 23:35:27.470505+00:00\n",
       "         ]"
      ]
     },
     "execution_count": 4,
     "metadata": {},
     "output_type": "execute_result"
    }
   ],
   "source": [
    "cat = conn.get_catalog(\"occ cmip6 current\")\n",
    "\n",
    "# List the matching datasources. Each entry is a Datasource object carrying all the metadata\n",
    "\n",
    "print(f\"Found {len(list(cat))} datasets matching 'occ cmip6 wave'\")\n",
    "\n",
    "list(cat)\n"
   ]
  },
  {
   "cell_type": "markdown",
   "id": "cell-7",
   "metadata": {},
   "source": [
    "### 2.2 Refined Search by Model and Time Period\n",
    "\n",
    "The search results show many datasets. Let's refine our search to focus on historical runs driven by the EC-Earth3 climate model:\n"
   ]
  },
  {
   "cell_type": "code",
   "execution_count": 5,
   "id": "cell-8",
   "metadata": {},
   "outputs": [
    {
     "name": "stdout",
     "output_type": "stream",
     "text": [
      "Found 1 historical EC-Earth3 datasets\n"
     ]
    },
    {
     "data": {
      "text/plain": [
       "[\n",
       "         Calypso CMIP6 SCHISM EC-Earth3 nz historical hydro parameters [calypso_cmip6_schism_nz_ec_earth3_historical_r1i1p1f1_grid]\n",
       "             Extent: (163.73491587, -49.24794654, 182.32942388, -32.00917599)\n",
       "             Timerange: 1984-11-01 00:00:00+00:00 to 2015-01-01 00:00:00+00:00\n",
       "         ]"
      ]
     },
     "execution_count": 5,
     "metadata": {},
     "output_type": "execute_result"
    }
   ],
   "source": [
    "cat = conn.get_catalog(\"occ cmip6 current historical EC-Earth3\")\n",
    "\n",
    "print(f\"Found {len(list(cat))} historical EC-Earth3 datasets\")\n",
    "\n",
    "list(cat)\n"
   ]
  },
  {
   "cell_type": "markdown",
   "id": "cell-9",
   "metadata": {},
   "source": [
    "### 2.3 Tag-Based Search\n",
    "\n",
    "For more precise searches, you can use tags with the format `tags:tag1&tag2&tag3`. This is particularly useful when you know exactly what type of data you need.\n",
    "\n",
    "**Example 1**: Search for all nz schism datasets\n"
   ]
  },
  {
   "cell_type": "code",
   "execution_count": 6,
   "id": "cell-12",
   "metadata": {},
   "outputs": [
    {
     "name": "stdout",
     "output_type": "stream",
     "text": [
      "Found 6 SCHISM NZ parameter datasets\n"
     ]
    },
    {
     "data": {
      "text/plain": [
       "[\n",
       "         Calypso CMIP6 SCHISM ACCESS-CM2 nz historical hydro parameters [calypso_cmip6_schism_nz_access_cm2_historical_r1i1p1f1_grid]\n",
       "             Extent: (163.73491587, -49.24794654, 182.32942388, -32.00917599)\n",
       "             Timerange: 1984-11-01 00:00:00+00:00 to 2015-01-01 00:00:00+00:00\n",
       "         ,\n",
       " \n",
       "         Calypso CMIP6 SCHISM ACCESS-CM2 nz ssp245 hydro parameters [calypso_cmip6_schism_nz_access_cm2_ssp245_r1i1p1f1_grid]\n",
       "             Extent: (163.73491587, -49.24794654, 182.32942388, -32.00917599)\n",
       "             Timerange: 2015-01-01 00:00:00+00:00 to 2025-09-15 23:35:27.470505+00:00\n",
       "         ,\n",
       " \n",
       "         Calypso CMIP6 SCHISM ACCESS-CM2 nz ssp370 hydro parameters [calypso_cmip6_schism_nz_access_cm2_ssp370_r1i1p1f1_grid]\n",
       "             Extent: (163.73491587, -49.24794654, 182.32942388, -32.00917599)\n",
       "             Timerange: 2015-01-01 00:00:00+00:00 to 2025-09-15 23:35:27.470505+00:00\n",
       "         ,\n",
       " \n",
       "         Calypso CMIP6 SCHISM EC-Earth3 nz historical hydro parameters [calypso_cmip6_schism_nz_ec_earth3_historical_r1i1p1f1_grid]\n",
       "             Extent: (163.73491587, -49.24794654, 182.32942388, -32.00917599)\n",
       "             Timerange: 1984-11-01 00:00:00+00:00 to 2015-01-01 00:00:00+00:00\n",
       "         ,\n",
       " \n",
       "         Calypso CMIP6 SCHISM EC-Earth3 nz ssp245 hydro parameters [calypso_cmip6_schism_nz_ec_earth3_ssp245_r1i1p1f1_grid]\n",
       "             Extent: (163.73491587, -49.24794654, 182.32942388, -32.00917599)\n",
       "             Timerange: 2015-01-01 00:00:00+00:00 to 2025-09-15 23:35:27.470505+00:00\n",
       "         ,\n",
       " \n",
       "         Calypso CMIP6 SCHISM EC-Earth3 nz ssp370 hydro parameters [calypso_cmip6_schism_nz_ec_earth3_ssp370_r1i1p1f1_grid]\n",
       "             Extent: (163.73491587, -49.24794654, 182.32942388, -32.00917599)\n",
       "             Timerange: 2015-01-01 00:00:00+00:00 to 2025-09-15 23:35:27.470505+00:00\n",
       "         ]"
      ]
     },
     "execution_count": 6,
     "metadata": {},
     "output_type": "execute_result"
    }
   ],
   "source": [
    "cat = conn.get_catalog(\"tags:occ&cmip6&schism&nz\")\n",
    "\n",
    "print(f\"Found {len(list(cat))} SCHISM NZ parameter datasets\")\n",
    "\n",
    "list(cat)"
   ]
  },
  {
   "cell_type": "markdown",
   "id": "cell-13",
   "metadata": {},
   "source": [
    "**Example 3**: Search for all gridded hydro statistics datasets (not done yet)\n"
   ]
  },
  {
   "cell_type": "code",
   "execution_count": 10,
   "id": "cell-14",
   "metadata": {},
   "outputs": [
    {
     "name": "stdout",
     "output_type": "stream",
     "text": [
      "Found 0 gridded hydro statistics datasets\n"
     ]
    },
    {
     "data": {
      "text/plain": [
       "[]"
      ]
     },
     "execution_count": 10,
     "metadata": {},
     "output_type": "execute_result"
    }
   ],
   "source": [
    "cat = Connector().get_catalog(\"tags:occ&cmip6&schism&gridstats\")\n",
    "\n",
    "print(f\"Found {len(list(cat))} gridded hydro statistics datasets\")\n",
    "\n",
    "list(cat)"
   ]
  },
  {
   "cell_type": "markdown",
   "id": "cell-16",
   "metadata": {},
   "source": [
    "## 4. Inspecting Dataset Metadata\n",
    "\n",
    "Each dataset in the catalog is represented by a [Datasource](https://oceanum-python.readthedocs.io/en/latest/classes/datamesh/oceanum.datamesh.Datasource.html#oceanum.datamesh.Datasource) object containing comprehensive metadata.\n"
   ]
  },
  {
   "cell_type": "markdown",
   "id": "cell-17",
   "metadata": {},
   "source": [
    "### 4.1 Getting a Specific Dataset\n",
    "\n",
    "You can retrieve a specific dataset either from search results:\n"
   ]
  },
  {
   "cell_type": "code",
   "execution_count": 11,
   "id": "cell-18",
   "metadata": {},
   "outputs": [
    {
     "ename": "IndexError",
     "evalue": "list index out of range",
     "output_type": "error",
     "traceback": [
      "\u001b[0;31m---------------------------------------------------------------------------\u001b[0m",
      "\u001b[0;31mIndexError\u001b[0m                                Traceback (most recent call last)",
      "Cell \u001b[0;32mIn[11], line 3\u001b[0m\n\u001b[1;32m      1\u001b[0m \u001b[38;5;66;03m# Get the first dataset from our search results\u001b[39;00m\n\u001b[0;32m----> 3\u001b[0m ds \u001b[38;5;241m=\u001b[39m \u001b[38;5;28;43mlist\u001b[39;49m\u001b[43m(\u001b[49m\u001b[43mcat\u001b[49m\u001b[43m)\u001b[49m\u001b[43m[\u001b[49m\u001b[38;5;241;43m0\u001b[39;49m\u001b[43m]\u001b[49m\n\u001b[1;32m      5\u001b[0m \u001b[38;5;28mprint\u001b[39m(\u001b[38;5;124m\"\u001b[39m\u001b[38;5;124mDataset from search results:\u001b[39m\u001b[38;5;124m\"\u001b[39m)\n\u001b[1;32m      7\u001b[0m \u001b[38;5;28mprint\u001b[39m(ds)\n",
      "\u001b[0;31mIndexError\u001b[0m: list index out of range"
     ]
    }
   ],
   "source": [
    "# Get the first dataset from our search results\n",
    "\n",
    "ds = list(cat)[0]\n",
    "\n",
    "print(\"Dataset from search results:\")\n",
    "\n",
    "print(ds)"
   ]
  },
  {
   "cell_type": "markdown",
   "id": "cell-19",
   "metadata": {},
   "source": [
    "Or get a dataset directly by its ID. In this example, we'll examine in detail the output from a **SWAN gridded parameters** dataset.\n"
   ]
  },
  {
   "cell_type": "code",
   "execution_count": 12,
   "id": "cell-20",
   "metadata": {},
   "outputs": [
    {
     "name": "stdout",
     "output_type": "stream",
     "text": [
      "Dataset retrieved by ID:\n",
      "\n",
      "        Calypso CMIP6 SCHISM ACCESS-CM2 nz historical hydro parameters [calypso_cmip6_schism_nz_access_cm2_historical_r1i1p1f1_grid]\n",
      "            Extent: (163.73491587, -49.24794654, 182.32942388, -32.00917599)\n",
      "            Timerange: 1984-11-01 00:00:00+00:00 to 2015-01-01 00:00:00+00:00\n",
      "            10 attributes\n",
      "            27 variables\n",
      "        \n"
     ]
    }
   ],
   "source": [
    "ds = conn.get_datasource(\"calypso_cmip6_schism_nz_access_cm2_historical_r1i1p1f1_grid\")\n",
    "\n",
    "print(\"Dataset retrieved by ID:\")\n",
    "\n",
    "print(ds)"
   ]
  },
  {
   "cell_type": "markdown",
   "id": "cell-21",
   "metadata": {},
   "source": [
    "### 4.2 Essential Dataset Attributes\n",
    "\n",
    "Let's explore the key metadata attributes that help you understand and work with the dataset:\n"
   ]
  },
  {
   "cell_type": "markdown",
   "id": "cell-22",
   "metadata": {},
   "source": [
    "**Dataset ID** (unique identifier):\n"
   ]
  },
  {
   "cell_type": "code",
   "execution_count": 13,
   "id": "cell-23",
   "metadata": {},
   "outputs": [
    {
     "name": "stdout",
     "output_type": "stream",
     "text": [
      "Dataset ID: calypso_cmip6_schism_nz_access_cm2_historical_r1i1p1f1_grid\n"
     ]
    }
   ],
   "source": [
    "print(\"Dataset ID:\", ds.id)"
   ]
  },
  {
   "cell_type": "markdown",
   "id": "cell-24",
   "metadata": {},
   "source": [
    "**Human-readable name**:\n"
   ]
  },
  {
   "cell_type": "code",
   "execution_count": 14,
   "id": "cell-25",
   "metadata": {},
   "outputs": [
    {
     "name": "stdout",
     "output_type": "stream",
     "text": [
      "Dataset Name: Calypso CMIP6 SCHISM ACCESS-CM2 nz historical hydro parameters\n"
     ]
    }
   ],
   "source": [
    "print(\"Dataset Name:\", ds.name)"
   ]
  },
  {
   "cell_type": "markdown",
   "id": "cell-26",
   "metadata": {},
   "source": [
    "**Detailed description**:\n"
   ]
  },
  {
   "cell_type": "code",
   "execution_count": 15,
   "id": "cell-27",
   "metadata": {},
   "outputs": [
    {
     "name": "stdout",
     "output_type": "stream",
     "text": [
      "Description:\n",
      "NZ sea surface elevation and depth-average current from Calypso SCHISM driven by ACCESS-CM2 under CMIP6 historical\n",
      "simulations (r1i1p1f1 ensemble member). This dataset provides comprehensive parameters for climate research and\n",
      "oceanographic applications as part of the Our Changing Coast project.\n"
     ]
    }
   ],
   "source": [
    "print(\"Description:\")\n",
    "\n",
    "print(textwrap.fill(ds.description, width=120))"
   ]
  },
  {
   "cell_type": "markdown",
   "id": "cell-28",
   "metadata": {},
   "source": [
    "**Available variables** (wave parameters):\n"
   ]
  },
  {
   "cell_type": "code",
   "execution_count": 16,
   "id": "cell-29",
   "metadata": {},
   "outputs": [
    {
     "name": "stdout",
     "output_type": "stream",
     "text": [
      "Available Variables:\n",
      "Total: 27 variables\n",
      "Variables: ['Cs', 'dahv', 'elev', 'zcor', 'depth', 'sigma_h_c', 'wetdry_elem', 'wetdry_node', 'wetdry_side', 'SCHISM_hgrid', 'minimum_depth', 'sigma_theta_b', 'sigma_theta_f', 'dry_value_flag', 'sigma_maxdepth', 'ele_bottom_index', 'edge_bottom_index', 'node_bottom_index', 'SCHISM_hgrid_edge_x', 'SCHISM_hgrid_edge_y', 'SCHISM_hgrid_face_x', 'SCHISM_hgrid_face_y', 'SCHISM_hgrid_node_x', 'SCHISM_hgrid_node_y', 'coordinate_system_flag', 'SCHISM_hgrid_edge_nodes', 'SCHISM_hgrid_face_nodes']\n"
     ]
    }
   ],
   "source": [
    "print(\"Available Variables:\")\n",
    "\n",
    "variables = list(ds.variables.keys())\n",
    "\n",
    "print(f\"Total: {len(variables)} variables\")\n",
    "\n",
    "print(\"Variables:\", variables)"
   ]
  },
  {
   "cell_type": "markdown",
   "id": "cell-30",
   "metadata": {},
   "source": [
    "### 4.3 Temporal Coverage\n"
   ]
  },
  {
   "cell_type": "code",
   "execution_count": 17,
   "id": "cell-31",
   "metadata": {},
   "outputs": [
    {
     "name": "stdout",
     "output_type": "stream",
     "text": [
      "Time Coverage:\n",
      "Start: 1984-11-01 00:00:00+00:00\n",
      "End: 2015-01-01 00:00:00+00:00\n",
      "Duration: 31 years\n"
     ]
    }
   ],
   "source": [
    "print(\"Time Coverage:\")\n",
    "\n",
    "print(f\"Start: {ds.tstart}\")\n",
    "\n",
    "print(f\"End: {ds.tend}\")\n",
    "\n",
    "print(f\"Duration: {ds.tend.year - ds.tstart.year} years\")"
   ]
  },
  {
   "cell_type": "markdown",
   "id": "cell-32",
   "metadata": {},
   "source": [
    "### 4.4 Spatial Coverage\n"
   ]
  },
  {
   "cell_type": "code",
   "execution_count": 18,
   "id": "cell-33",
   "metadata": {},
   "outputs": [
    {
     "name": "stdout",
     "output_type": "stream",
     "text": [
      "Spatial Extent (West, South, East, North):\n",
      "Longitude: 163.73491587° to 182.32942388°\n",
      "Latitude: -49.24794654° to -32.00917599°\n"
     ]
    }
   ],
   "source": [
    "print(\"Spatial Extent (West, South, East, North):\")\n",
    "\n",
    "bounds = ds.geom.bounds\n",
    "\n",
    "print(f\"Longitude: {bounds[0]}° to {bounds[2]}°\")\n",
    "\n",
    "print(f\"Latitude: {bounds[1]}° to {bounds[3]}°\")"
   ]
  },
  {
   "cell_type": "markdown",
   "id": "cell-34",
   "metadata": {},
   "source": [
    "### 4.5 Coordinate System\n"
   ]
  },
  {
   "cell_type": "code",
   "execution_count": 19,
   "id": "cell-35",
   "metadata": {},
   "outputs": [
    {
     "name": "stdout",
     "output_type": "stream",
     "text": [
      "Coordinate Mapping:\n",
      "  t → time\n",
      "  x → longitude\n",
      "  y → latitude\n"
     ]
    }
   ],
   "source": [
    "print(\"Coordinate Mapping:\")\n",
    "\n",
    "for key, value in ds.coordinates.items():\n",
    "    print(f\"  {key} → {value}\")"
   ]
  },
  {
   "cell_type": "markdown",
   "id": "cell-36",
   "metadata": {},
   "source": [
    "## 5. Detailed Data Schema Inspection\n",
    "\n",
    "The data schema provides complete information about the dataset structure, including dimensions, coordinates, and variable attributes:\n"
   ]
  },
  {
   "cell_type": "code",
   "execution_count": 22,
   "id": "cell-37",
   "metadata": {},
   "outputs": [
    {
     "name": "stdout",
     "output_type": "stream",
     "text": [
      "Dataset Dimensions:\n",
      "  one: 1\n",
      "  two: 2\n",
      "  time: 264433\n",
      "  sigma: 2\n",
      "  nSCHISM_hgrid_edge: 229403\n",
      "  nSCHISM_hgrid_face: 151682\n",
      "  nSCHISM_hgrid_node: 77703\n",
      "  nSCHISM_vgrid_layers: 2\n",
      "  nMaxSCHISM_hgrid_face_nodes: 4\n",
      "\n",
      "Total data points: 20547237399\n"
     ]
    }
   ],
   "source": [
    "schema = ds.dataschema.model_dump()\n",
    "\n",
    "print(\"Dataset Dimensions:\")\n",
    "\n",
    "for dim, size in schema['dims'].items():\n",
    "    print(f\"  {dim}: {size}\")\n",
    "\n",
    "print(f\"\\nTotal data points: {schema['dims']['time'] * schema['dims']['nSCHISM_hgrid_node'] }\")\n"
   ]
  },
  {
   "cell_type": "markdown",
   "id": "cell-38",
   "metadata": {},
   "source": [
    "### 5.1 Variable Details\n",
    "\n",
    "Let's examine a few key wave variables in detail:\n"
   ]
  },
  {
   "cell_type": "code",
   "execution_count": 23,
   "id": "cell-39",
   "metadata": {},
   "outputs": [
    {
     "name": "stdout",
     "output_type": "stream",
     "text": [
      "Key Variables:\n",
      "--------------------------------------------------------------------------------\n",
      "\n",
      "ELEV:\n",
      "  Range: -10 - 10\n",
      "\n",
      "DAHV:\n",
      "  Range: -10 - 10\n"
     ]
    }
   ],
   "source": [
    "# Key parameters to highlight\n",
    "key_variables = ['elev', 'dahv' ]\n",
    "\n",
    "print(\"Key Variables:\")\n",
    "print(\"-\" * 80)\n",
    "\n",
    "for var in key_variables:\n",
    "    if var in schema['data_vars']:\n",
    "        var_info = schema['data_vars'][var]\n",
    "        print(f\"\\n{var.upper()}:\")\n",
    "        # print(f\"  Name: {var_info['attrs']['long_name']}\")\n",
    "        # print(f\"  Units: {var_info['attrs']['units']}\")\n",
    "        print(f\"  Range: {var_info['attrs']['valid_min']} - {var_info['attrs']['valid_max']}\")\n",
    "        if 'standard_name' in var_info['attrs']:\n",
    "            print(f\"  CF Standard Name: {var_info['attrs']['standard_name']}\")\n"
   ]
  },
  {
   "cell_type": "markdown",
   "id": "cell-42",
   "metadata": {},
   "source": [
    "## 6. Summary and Next Steps\n",
    "\n",
    "### What We've Covered\n",
    "\n",
    "1. **Connection Setup**: How to connect to Datamesh using the Oceanum Python client\n",
    "2. **Search Strategies**: Different approaches to find relevant hydro datasets\n",
    "3. **Dataset Types**: Understanding parameters and gridstats datasets\n",
    "4. **Metadata Inspection**: Exploring dataset attributes, coverage, and structure\n",
    "5. **Variable Understanding**: Categorizing and interpreting wave parameters\n",
    "\n",
    "### Recommended Next Steps\n",
    "\n",
    "1. **Data Access**: Learn how to actually download and work with the data using `conn.get_data()`\n",
    "2. **Spatial/Temporal Filtering**: Practice subsetting data for specific regions and time periods\n",
    "3. **Data Analysis**: Explore hydro climate patterns, trends, and statistics\n",
    "4. **Visualization**: Create maps and time series plots of hydro parameters\n",
    "\n",
    "### Key Takeaways for New Users\n",
    "\n",
    "- Start with **parameter datasets** (`_grid`) for general wave analysis\n",
    "- Use **tag-based searches** for precise dataset discovery\n",
    "- Always inspect **metadata** before downloading large datasets\n",
    "- Consider **spatial and temporal coverage** when selecting datasets\n",
    "- Understand the difference between **historical** and **projection** scenarios\n",
    "\n",
    "### Getting Help\n",
    "\n",
    "- [Oceanum Python Documentation](https://oceanum-python.readthedocs.io/en/latest/)\n",
    "- [Datamesh API Reference](https://oceanum-python.readthedocs.io/en/latest/classes/datamesh/)\n",
    "- Contact Oceanum support for specific questions about datasets\n"
   ]
  },
  {
   "cell_type": "code",
   "execution_count": null,
   "id": "c839986a",
   "metadata": {},
   "outputs": [],
   "source": []
  }
 ],
 "metadata": {
  "kernelspec": {
   "display_name": "oceanum",
   "language": "python",
   "name": "oceanum"
  },
  "language_info": {
   "codemirror_mode": {
    "name": "ipython",
    "version": 3
   },
   "file_extension": ".py",
   "mimetype": "text/x-python",
   "name": "python",
   "nbconvert_exporter": "python",
   "pygments_lexer": "ipython3",
   "version": "3.12.3"
  }
 },
 "nbformat": 4,
 "nbformat_minor": 5
}
