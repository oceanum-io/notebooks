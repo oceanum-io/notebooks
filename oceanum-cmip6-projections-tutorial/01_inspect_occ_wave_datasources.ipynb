{
 "cells": [
  {
   "cell_type": "markdown",
   "id": "cell-0",
   "metadata": {},
   "source": [
    "# Inspect Oceanum OCC CMIP6 Wave Datasources\n",
    "\n",
    "This notebook provides a comprehensive introduction to searching for and inspecting wave\n",
    "model outputs from Oceanum's OCC wave climate projections available through Datamesh. \n",
    "\n",
    "## What You'll Learn\n",
    "\n",
    "By the end of this tutorial, you will understand how to:\n",
    "- Connect to the Datamesh API using the Oceanum Python client\n",
    "- Search for wave datasets using different strategies (keywords, tags, filters)\n",
    "- Understand the different types of wave data available (parameters, spectra, statistics)\n",
    "- Inspect dataset metadata to understand data structure and content\n",
    "- Navigate the CMIP6 climate projection datasets from Oceanum\n",
    "\n",
    "## Background: Oceanum's OCC CMIP6 Wave Model Data\n",
    "\n",
    "Oceanum provides high-resolution wave model outputs based on CMIP6 climate projections.\n",
    "The data includes:\n",
    "\n",
    "- **WW3 (WAVEWATCH III)**: Global wave model outputs on a 1-degree grid\n",
    "- **SWAN (Simulating WAves Nearshore)**: High-resolution regional wave model for New Zealand on a 5km grid\n",
    "- **Wind forcing**: Global and NIWA downscale (CCAM) wind forcing data from CMIP6 ACCESS-CM2 and EC-Earth3 global climate models\n",
    "- **Time Periods**: Historical (1985-2015) and future projections (2015-2100) under different emission scenarios\n",
    "- **Shared Socioeconomic Pathways**: SSP245, SSP370\n",
    "- **Data Types**:\n",
    "  - **Parameters**: Three-hourly, integraded wave parameters over the full computational grid (height, period, direction, etc.)\n",
    "  - **Spectra**: Three-hourly, Frequency-direction 2D wave energy spectra at a large subset of grid points\n",
    "  - **Gridstats**: Statistical summaries and derived metrics\n",
    "\n",
    "### Required Python Libraries\n",
    "\n",
    "- [oceanum](https://oceanum-python.readthedocs.io/en/latest/): Python client for accessing Datamesh\n"
   ]
  },
  {
   "cell_type": "code",
   "execution_count": 1,
   "id": "cell-1",
   "metadata": {},
   "outputs": [],
   "source": [
    "import textwrap\n",
    "from oceanum.datamesh import Connector\n",
    "\n",
    "import warnings\n",
    "warnings.filterwarnings(\"ignore\")\n"
   ]
  },
  {
   "cell_type": "markdown",
   "id": "cell-2",
   "metadata": {},
   "source": [
    "## 1. Setting Up the Connection\n",
    "\n",
    "The [Connector](https://oceanum-python.readthedocs.io/en/latest/classes/datamesh/oceanum.datamesh.Connector.html) class provides access to methods for querying data and metadata from Datamesh.\n",
    "\n",
    "**Authentication**: You can provide your Datamesh token directly or set it as an environment variable `DATAMESH_TOKEN`.\n"
   ]
  },
  {
   "cell_type": "code",
   "execution_count": 2,
   "id": "cell-3",
   "metadata": {},
   "outputs": [
    {
     "name": "stdout",
     "output_type": "stream",
     "text": [
      "Using datamesh API version 0\n",
      "You are using version 1.0.8 of oceanum_python. A new version is available: 1.0.9. Please update your client to benefit from the latest features and updates.\n"
     ]
    }
   ],
   "source": [
    "conn = Connector(token=None)"
   ]
  },
  {
   "cell_type": "markdown",
   "id": "cell-4",
   "metadata": {},
   "source": [
    "## 2. Searching for Wave Datasets\n",
    "\n",
    "The `get_catalog` method allows you to search for datasets using keywords that match against dataset names, descriptions, and tags.\n"
   ]
  },
  {
   "cell_type": "markdown",
   "id": "cell-5",
   "metadata": {},
   "source": [
    "### 2.1 Basic Keyword Search\n",
    "\n",
    "Let's start with a broad search to see all available Oceanum CMIP6 wave datasources:\n"
   ]
  },
  {
   "cell_type": "code",
   "execution_count": 3,
   "id": "cell-6",
   "metadata": {},
   "outputs": [
    {
     "name": "stdout",
     "output_type": "stream",
     "text": [
      "Found 36 datasets matching 'occ cmip6 wave'\n"
     ]
    },
    {
     "data": {
      "text/plain": [
       "[\n",
       "         Oceanum CMIP6 WW3 EC-Earth3 global historical gridded wave stats [oceanum_cmip6_ww3_global_ec_earth3_historical_r1i1p1f1_gridstats]\n",
       "             Extent: (0.0, -78.0, 360.0, 78.0)\n",
       "             Timerange: 1985-01-01 00:00:00+00:00 to 2015-01-01 00:00:00+00:00\n",
       "         ,\n",
       " \n",
       "         Oceanum CMIP6 SWAN ACCESS-CM2 New Zealand historical wave spectra [oceanum_cmip6_swan_nz_access_cm2_historical_r1i1p1f1_spectra]\n",
       "             Extent: (165.8000030517578, -47.79999923706055, 179.8000030517578, -34.0)\n",
       "             Timerange: 1985-01-01 00:00:00+00:00 to 2015-01-01 00:00:00+00:00\n",
       "         ,\n",
       " \n",
       "         Oceanum CMIP6 WW3 EC-Earth3 global projections ssp370 gridded wave stats [oceanum_cmip6_ww3_global_ec_earth3_ssp370_r1i1p1f1_gridstats]\n",
       "             Extent: (0.0, -78.0, 360.0, 78.0)\n",
       "             Timerange: 2015-01-01 00:00:00+00:00 to 2100-01-01 00:00:00+00:00\n",
       "         ,\n",
       " \n",
       "         Oceanum CMIP6 WW3 ACCESS-CM2 global projections ssp370 gridded wave stats [oceanum_cmip6_ww3_global_access_cm2_ssp370_r1i1p1f1_gridstats]\n",
       "             Extent: (0.0, -78.0, 360.0, 78.0)\n",
       "             Timerange: 2015-01-01 00:00:00+00:00 to 2100-01-01 00:00:00+00:00\n",
       "         ,\n",
       " \n",
       "         Oceanum CMIP6 SWAN EC-Earth3 New Zealand historical gridded wave stats [oceanum_cmip6_swan_nz_ec_earth3_historical_r1i1p1f1_gridstats]\n",
       "             Extent: (165.0, -48.0, 180.0, -34.0)\n",
       "             Timerange: 1985-01-01 00:00:00+00:00 to 2015-01-01 00:00:00+00:00\n",
       "         ,\n",
       " \n",
       "         Oceanum CMIP6 SWAN EC-Earth3 New Zealand projections ssp245 gridded wave stats [oceanum_cmip6_swan_nz_ec_earth3_ssp245_r1i1p1f1_gridstats]\n",
       "             Extent: (165.0, -48.0, 180.0, -34.0)\n",
       "             Timerange: 2015-01-01 00:00:00+00:00 to 2100-01-01 00:00:00+00:00\n",
       "         ,\n",
       " \n",
       "         Oceanum CMIP6 SWAN EC-Earth3 New Zealand projections ssp370 wave parameters [oceanum_cmip6_swan_nz_ec_earth3_ssp370_r1i1p1f1_grid]\n",
       "             Extent: (165.0, -48.0, 180.0, -34.0)\n",
       "             Timerange: 2015-01-01 00:00:00+00:00 to 2100-01-01 00:00:00+00:00\n",
       "         ,\n",
       " \n",
       "         Oceanum CMIP6 WW3 ACCESS-CM2 global historical wave parameters [oceanum_cmip6_ww3_global_access_cm2_historical_r1i1p1f1_grid]\n",
       "             Extent: (0.0, -78.0, 360.0, 78.0)\n",
       "             Timerange: 1985-01-01 00:00:00+00:00 to 2015-01-01 00:00:00+00:00\n",
       "         ,\n",
       " \n",
       "         Oceanum CMIP6 SWAN ACCESS-CM2 New Zealand historical gridded wave stats [oceanum_cmip6_swan_nz_access_cm2_historical_r1i1p1f1_gridstats]\n",
       "             Extent: (165.0, -48.0, 180.0, -34.0)\n",
       "             Timerange: 1985-01-01 00:00:00+00:00 to 2015-01-01 00:00:00+00:00\n",
       "         ,\n",
       " \n",
       "         Oceanum CMIP6 SWAN ACCESS-CM2 New Zealand projections ssp370 gridded wave stats [oceanum_cmip6_swan_nz_access_cm2_ssp370_r1i1p1f1_gridstats]\n",
       "             Extent: (165.0, -48.0, 180.0, -34.0)\n",
       "             Timerange: 2015-01-01 00:00:00+00:00 to 2100-01-01 00:00:00+00:00\n",
       "         ,\n",
       " \n",
       "         Oceanum CMIP6 WW3 ACCESS-CM2 global projections ssp245 wave spectra [oceanum_cmip6_ww3_global_access_cm2_ssp245_r1i1p1f1_spectra]\n",
       "             Extent: (0.0, -60.0, 359.0, 69.0)\n",
       "             Timerange: 2015-01-01 00:00:00+00:00 to 2100-01-01 00:00:00+00:00\n",
       "         ,\n",
       " \n",
       "         Oceanum CMIP6 SWAN ACCESS-CM2 New Zealand projections ssp245 wave spectra [oceanum_cmip6_swan_nz_access_cm2_ssp245_r1i1p1f1_spectra]\n",
       "             Extent: (165.8000030517578, -47.79999923706055, 179.8000030517578, -34.0)\n",
       "             Timerange: 2015-01-01 00:00:00+00:00 to 2100-01-01 00:00:00+00:00\n",
       "         ,\n",
       " \n",
       "         Oceanum CMIP6 SWAN ACCESS-CM2 New Zealand historical wave parameters [oceanum_cmip6_swan_nz_access_cm2_historical_r1i1p1f1_grid]\n",
       "             Extent: (165.0, -48.0, 180.0, -34.0)\n",
       "             Timerange: 1985-01-01 00:00:00+00:00 to 2015-01-01 00:00:00+00:00\n",
       "         ,\n",
       " \n",
       "         Oceanum CMIP6 WW3 EC-Earth3 global projections ssp245 gridded wave stats [oceanum_cmip6_ww3_global_ec_earth3_ssp245_r1i1p1f1_gridstats]\n",
       "             Extent: (0.0, -78.0, 360.0, 78.0)\n",
       "             Timerange: 2015-01-01 00:00:00+00:00 to 2100-01-01 00:00:00+00:00\n",
       "         ,\n",
       " \n",
       "         Oceanum CMIP6 WW3 ACCESS-CM2 global historical gridded wave stats [oceanum_cmip6_ww3_global_access_cm2_historical_r1i1p1f1_gridstats]\n",
       "             Extent: (0.0, -78.0, 360.0, 78.0)\n",
       "             Timerange: 1985-01-01 00:00:00+00:00 to 2015-01-01 00:00:00+00:00\n",
       "         ,\n",
       " \n",
       "         Oceanum CMIP6 WW3 ACCESS-CM2 global projections ssp245 gridded wave stats [oceanum_cmip6_ww3_global_access_cm2_ssp245_r1i1p1f1_gridstats]\n",
       "             Extent: (0.0, -78.0, 360.0, 78.0)\n",
       "             Timerange: 2015-01-01 00:00:00+00:00 to 2100-01-01 00:00:00+00:00\n",
       "         ,\n",
       " \n",
       "         Oceanum CMIP6 SWAN EC-Earth3 New Zealand historical wave spectra [oceanum_cmip6_swan_nz_ec_earth3_historical_r1i1p1f1_spectra]\n",
       "             Extent: (165.8000030517578, -47.79999923706055, 179.8000030517578, -34.0)\n",
       "             Timerange: 1985-01-01 00:00:00+00:00 to 2015-01-01 00:00:00+00:00\n",
       "         ,\n",
       " \n",
       "         Oceanum CMIP6 SWAN EC-Earth3 New Zealand projections ssp370 gridded wave stats [oceanum_cmip6_swan_nz_ec_earth3_ssp370_r1i1p1f1_gridstats]\n",
       "             Extent: (165.0, -48.0, 180.0, -34.0)\n",
       "             Timerange: 2015-01-01 00:00:00+00:00 to 2100-01-01 00:00:00+00:00\n",
       "         ,\n",
       " \n",
       "         Oceanum CMIP6 SWAN ACCESS-CM2 New Zealand projections ssp245 gridded wave stats [oceanum_cmip6_swan_nz_access_cm2_ssp245_r1i1p1f1_gridstats]\n",
       "             Extent: (165.0, -48.0, 180.0, -34.0)\n",
       "             Timerange: 2015-01-01 00:00:00+00:00 to 2100-01-01 00:00:00+00:00\n",
       "         ,\n",
       " \n",
       "         Oceanum CMIP6 WW3 EC-Earth3 global historical wave spectra [oceanum_cmip6_ww3_global_ec_earth3_historical_r1i1p1f1_spectra]\n",
       "             Extent: (0.0, -60.0, 359.0, 69.0)\n",
       "             Timerange: 1985-01-01 00:00:00+00:00 to 2015-01-01 00:00:00+00:00\n",
       "         ,\n",
       " \n",
       "         Oceanum CMIP6 WW3 EC-Earth3 global projections ssp245 wave spectra [oceanum_cmip6_ww3_global_ec_earth3_ssp245_r1i1p1f1_spectra]\n",
       "             Extent: (0.0, -60.0, 359.0, 69.0)\n",
       "             Timerange: 2015-01-01 00:00:00+00:00 to 2100-01-01 00:00:00+00:00\n",
       "         ,\n",
       " \n",
       "         Oceanum CMIP6 WW3 EC-Earth3 global projections ssp370 wave spectra [oceanum_cmip6_ww3_global_ec_earth3_ssp370_r1i1p1f1_spectra]\n",
       "             Extent: (0.0, -60.0, 359.0, 69.0)\n",
       "             Timerange: 2015-01-01 00:00:00+00:00 to 2100-01-01 00:00:00+00:00\n",
       "         ,\n",
       " \n",
       "         Oceanum CMIP6 SWAN ACCESS-CM2 New Zealand projections ssp245 wave parameters [oceanum_cmip6_swan_nz_access_cm2_ssp245_r1i1p1f1_grid]\n",
       "             Extent: (165.0, -48.0, 180.0, -34.0)\n",
       "             Timerange: 2015-01-01 00:00:00+00:00 to 2100-01-01 00:00:00+00:00\n",
       "         ,\n",
       " \n",
       "         Oceanum CMIP6 SWAN ACCESS-CM2 New Zealand projections ssp370 wave spectra [oceanum_cmip6_swan_nz_access_cm2_ssp370_r1i1p1f1_spectra]\n",
       "             Extent: (165.8000030517578, -47.79999923706055, 179.8000030517578, -34.0)\n",
       "             Timerange: 2015-01-01 00:00:00+00:00 to 2100-01-01 00:00:00+00:00\n",
       "         ,\n",
       " \n",
       "         Oceanum CMIP6 SWAN EC-Earth3 New Zealand historical wave parameters [oceanum_cmip6_swan_nz_ec_earth3_historical_r1i1p1f1_grid]\n",
       "             Extent: (165.0, -48.0, 180.0, -34.0)\n",
       "             Timerange: 1985-01-01 00:00:00+00:00 to 2015-01-01 00:00:00+00:00\n",
       "         ,\n",
       " \n",
       "         Oceanum CMIP6 SWAN EC-Earth3 New Zealand projections ssp245 wave parameters [oceanum_cmip6_swan_nz_ec_earth3_ssp245_r1i1p1f1_grid]\n",
       "             Extent: (165.0, -48.0, 180.0, -34.0)\n",
       "             Timerange: 2015-01-01 00:00:00+00:00 to 2100-01-01 00:00:00+00:00\n",
       "         ,\n",
       " \n",
       "         Oceanum CMIP6 SWAN EC-Earth3 New Zealand projections ssp370 wave spectra [oceanum_cmip6_swan_nz_ec_earth3_ssp370_r1i1p1f1_spectra]\n",
       "             Extent: (165.8000030517578, -47.79999923706055, 179.8000030517578, -34.0)\n",
       "             Timerange: 2015-01-01 00:00:00+00:00 to 2100-01-01 00:00:00+00:00\n",
       "         ,\n",
       " \n",
       "         Oceanum CMIP6 WW3 EC-Earth3 global historical wave parameters [oceanum_cmip6_ww3_global_ec_earth3_historical_r1i1p1f1_grid]\n",
       "             Extent: (0.0, -78.0, 360.0, 78.0)\n",
       "             Timerange: 1985-01-01 00:00:00+00:00 to 2015-01-01 00:00:00+00:00\n",
       "         ,\n",
       " \n",
       "         Oceanum CMIP6 WW3 EC-Earth3 global projections ssp245 wave parameters [oceanum_cmip6_ww3_global_ec_earth3_ssp245_r1i1p1f1_grid]\n",
       "             Extent: (0.0, -78.0, 360.0, 78.0)\n",
       "             Timerange: 2015-01-01 00:00:00+00:00 to 2100-01-01 00:00:00+00:00\n",
       "         ,\n",
       " \n",
       "         Oceanum CMIP6 WW3 EC-Earth3 global projections ssp370 wave parameters [oceanum_cmip6_ww3_global_ec_earth3_ssp370_r1i1p1f1_grid]\n",
       "             Extent: (0.0, -78.0, 360.0, 78.0)\n",
       "             Timerange: 2015-01-01 00:00:00+00:00 to 2100-01-01 00:00:00+00:00\n",
       "         ,\n",
       " \n",
       "         Oceanum CMIP6 SWAN ACCESS-CM2 New Zealand projections ssp370 wave parameters [oceanum_cmip6_swan_nz_access_cm2_ssp370_r1i1p1f1_grid]\n",
       "             Extent: (165.0, -48.0, 180.0, -34.0)\n",
       "             Timerange: 2015-01-01 00:00:00+00:00 to 2100-01-01 00:00:00+00:00\n",
       "         ,\n",
       " \n",
       "         Oceanum CMIP6 SWAN EC-Earth3 New Zealand projections ssp245 wave spectra [oceanum_cmip6_swan_nz_ec_earth3_ssp245_r1i1p1f1_spectra]\n",
       "             Extent: (165.8000030517578, -47.79999923706055, 179.8000030517578, -34.0)\n",
       "             Timerange: 2015-01-01 00:00:00+00:00 to 2100-01-01 00:00:00+00:00\n",
       "         ,\n",
       " \n",
       "         Oceanum CMIP6 WW3 ACCESS-CM2 global historical wave spectra [oceanum_cmip6_ww3_global_access_cm2_historical_r1i1p1f1_spectra]\n",
       "             Extent: (0.0, -60.0, 359.0, 69.0)\n",
       "             Timerange: 1985-01-01 00:00:00+00:00 to 2015-01-01 00:00:00+00:00\n",
       "         ,\n",
       " \n",
       "         Oceanum CMIP6 WW3 ACCESS-CM2 global projections ssp245 wave parameters [oceanum_cmip6_ww3_global_access_cm2_ssp245_r1i1p1f1_grid]\n",
       "             Extent: (0.0, -78.0, 360.0, 78.0)\n",
       "             Timerange: 2015-01-01 00:00:00+00:00 to 2100-01-01 00:00:00+00:00\n",
       "         ,\n",
       " \n",
       "         Oceanum CMIP6 WW3 ACCESS-CM2 global projections ssp370 wave parameters [oceanum_cmip6_ww3_global_access_cm2_ssp370_r1i1p1f1_grid]\n",
       "             Extent: (0.0, -78.0, 360.0, 78.0)\n",
       "             Timerange: 2015-01-01 00:00:00+00:00 to 2100-01-01 00:00:00+00:00\n",
       "         ,\n",
       " \n",
       "         Oceanum CMIP6 WW3 ACCESS-CM2 global projections ssp370 wave spectra [oceanum_cmip6_ww3_global_access_cm2_ssp370_r1i1p1f1_spectra]\n",
       "             Extent: (0.0, -60.0, 359.0, 69.0)\n",
       "             Timerange: 2015-01-01 00:00:00+00:00 to 2100-01-01 00:00:00+00:00\n",
       "         ]"
      ]
     },
     "execution_count": 3,
     "metadata": {},
     "output_type": "execute_result"
    }
   ],
   "source": [
    "cat = conn.get_catalog(\"occ cmip6 wave\")\n",
    "\n",
    "# List the matching datasources. Each entry is a Datasource object carrying all the metadata\n",
    "\n",
    "print(f\"Found {len(list(cat))} datasets matching 'occ cmip6 wave'\")\n",
    "\n",
    "list(cat)\n"
   ]
  },
  {
   "cell_type": "markdown",
   "id": "cell-7",
   "metadata": {},
   "source": [
    "### 2.2 Refined Search by Model and Time Period\n",
    "\n",
    "The search results show many datasets. Let's refine our search to focus on historical runs driven by the EC-Earth3 climate model:\n"
   ]
  },
  {
   "cell_type": "code",
   "execution_count": 4,
   "id": "cell-8",
   "metadata": {},
   "outputs": [
    {
     "name": "stdout",
     "output_type": "stream",
     "text": [
      "Found 6 historical EC-Earth3 datasets\n"
     ]
    },
    {
     "data": {
      "text/plain": [
       "[\n",
       "         Oceanum CMIP6 SWAN EC-Earth3 New Zealand historical gridded wave stats [oceanum_cmip6_swan_nz_ec_earth3_historical_r1i1p1f1_gridstats]\n",
       "             Extent: (165.0, -48.0, 180.0, -34.0)\n",
       "             Timerange: 1985-01-01 00:00:00+00:00 to 2015-01-01 00:00:00+00:00\n",
       "         ,\n",
       " \n",
       "         Oceanum CMIP6 WW3 EC-Earth3 global historical wave spectra [oceanum_cmip6_ww3_global_ec_earth3_historical_r1i1p1f1_spectra]\n",
       "             Extent: (0.0, -60.0, 359.0, 69.0)\n",
       "             Timerange: 1985-01-01 00:00:00+00:00 to 2015-01-01 00:00:00+00:00\n",
       "         ,\n",
       " \n",
       "         Oceanum CMIP6 SWAN EC-Earth3 New Zealand historical wave parameters [oceanum_cmip6_swan_nz_ec_earth3_historical_r1i1p1f1_grid]\n",
       "             Extent: (165.0, -48.0, 180.0, -34.0)\n",
       "             Timerange: 1985-01-01 00:00:00+00:00 to 2015-01-01 00:00:00+00:00\n",
       "         ,\n",
       " \n",
       "         Oceanum CMIP6 WW3 EC-Earth3 global historical gridded wave stats [oceanum_cmip6_ww3_global_ec_earth3_historical_r1i1p1f1_gridstats]\n",
       "             Extent: (0.0, -78.0, 360.0, 78.0)\n",
       "             Timerange: 1985-01-01 00:00:00+00:00 to 2015-01-01 00:00:00+00:00\n",
       "         ,\n",
       " \n",
       "         Oceanum CMIP6 SWAN EC-Earth3 New Zealand historical wave spectra [oceanum_cmip6_swan_nz_ec_earth3_historical_r1i1p1f1_spectra]\n",
       "             Extent: (165.8000030517578, -47.79999923706055, 179.8000030517578, -34.0)\n",
       "             Timerange: 1985-01-01 00:00:00+00:00 to 2015-01-01 00:00:00+00:00\n",
       "         ,\n",
       " \n",
       "         Oceanum CMIP6 WW3 EC-Earth3 global historical wave parameters [oceanum_cmip6_ww3_global_ec_earth3_historical_r1i1p1f1_grid]\n",
       "             Extent: (0.0, -78.0, 360.0, 78.0)\n",
       "             Timerange: 1985-01-01 00:00:00+00:00 to 2015-01-01 00:00:00+00:00\n",
       "         ]"
      ]
     },
     "execution_count": 4,
     "metadata": {},
     "output_type": "execute_result"
    }
   ],
   "source": [
    "cat = conn.get_catalog(\"occ cmip6 wave historical EC-Earth3\")\n",
    "\n",
    "print(f\"Found {len(list(cat))} historical EC-Earth3 datasets\")\n",
    "\n",
    "list(cat)\n"
   ]
  },
  {
   "cell_type": "markdown",
   "id": "cell-9",
   "metadata": {},
   "source": [
    "### 2.3 Tag-Based Search\n",
    "\n",
    "For more precise searches, you can use tags with the format `tags:tag1&tag2&tag3`. This is particularly useful when you know exactly what type of data you need.\n",
    "\n",
    "**Example 1**: Search for all global wave spectra datasets\n"
   ]
  },
  {
   "cell_type": "code",
   "execution_count": 5,
   "id": "cell-10",
   "metadata": {},
   "outputs": [
    {
     "name": "stdout",
     "output_type": "stream",
     "text": [
      "Found 6 global spectra datasets\n"
     ]
    },
    {
     "data": {
      "text/plain": [
       "[\n",
       "         Oceanum CMIP6 WW3 ACCESS-CM2 global historical wave spectra [oceanum_cmip6_ww3_global_access_cm2_historical_r1i1p1f1_spectra]\n",
       "             Extent: (0.0, -60.0, 359.0, 69.0)\n",
       "             Timerange: 1985-01-01 00:00:00+00:00 to 2015-01-01 00:00:00+00:00\n",
       "         ,\n",
       " \n",
       "         Oceanum CMIP6 WW3 ACCESS-CM2 global projections ssp245 wave spectra [oceanum_cmip6_ww3_global_access_cm2_ssp245_r1i1p1f1_spectra]\n",
       "             Extent: (0.0, -60.0, 359.0, 69.0)\n",
       "             Timerange: 2015-01-01 00:00:00+00:00 to 2100-01-01 00:00:00+00:00\n",
       "         ,\n",
       " \n",
       "         Oceanum CMIP6 WW3 ACCESS-CM2 global projections ssp370 wave spectra [oceanum_cmip6_ww3_global_access_cm2_ssp370_r1i1p1f1_spectra]\n",
       "             Extent: (0.0, -60.0, 359.0, 69.0)\n",
       "             Timerange: 2015-01-01 00:00:00+00:00 to 2100-01-01 00:00:00+00:00\n",
       "         ,\n",
       " \n",
       "         Oceanum CMIP6 WW3 EC-Earth3 global historical wave spectra [oceanum_cmip6_ww3_global_ec_earth3_historical_r1i1p1f1_spectra]\n",
       "             Extent: (0.0, -60.0, 359.0, 69.0)\n",
       "             Timerange: 1985-01-01 00:00:00+00:00 to 2015-01-01 00:00:00+00:00\n",
       "         ,\n",
       " \n",
       "         Oceanum CMIP6 WW3 EC-Earth3 global projections ssp245 wave spectra [oceanum_cmip6_ww3_global_ec_earth3_ssp245_r1i1p1f1_spectra]\n",
       "             Extent: (0.0, -60.0, 359.0, 69.0)\n",
       "             Timerange: 2015-01-01 00:00:00+00:00 to 2100-01-01 00:00:00+00:00\n",
       "         ,\n",
       " \n",
       "         Oceanum CMIP6 WW3 EC-Earth3 global projections ssp370 wave spectra [oceanum_cmip6_ww3_global_ec_earth3_ssp370_r1i1p1f1_spectra]\n",
       "             Extent: (0.0, -60.0, 359.0, 69.0)\n",
       "             Timerange: 2015-01-01 00:00:00+00:00 to 2100-01-01 00:00:00+00:00\n",
       "         ]"
      ]
     },
     "execution_count": 5,
     "metadata": {},
     "output_type": "execute_result"
    }
   ],
   "source": [
    "cat = conn.get_catalog(\"tags:occ&cmip6&ww3&global&spectra\")\n",
    "\n",
    "print(f\"Found {len(list(cat))} global spectra datasets\")\n",
    "\n",
    "list(cat)\n"
   ]
  },
  {
   "cell_type": "markdown",
   "id": "cell-11",
   "metadata": {},
   "source": [
    "**Example 2**: Search for SWAN New Zealand gridded parameter datasets\n"
   ]
  },
  {
   "cell_type": "code",
   "execution_count": 6,
   "id": "cell-12",
   "metadata": {},
   "outputs": [
    {
     "name": "stdout",
     "output_type": "stream",
     "text": [
      "Found 6 SWAN NZ parameter datasets\n"
     ]
    },
    {
     "data": {
      "text/plain": [
       "[\n",
       "         Oceanum CMIP6 SWAN ACCESS-CM2 New Zealand historical wave parameters [oceanum_cmip6_swan_nz_access_cm2_historical_r1i1p1f1_grid]\n",
       "             Extent: (165.0, -48.0, 180.0, -34.0)\n",
       "             Timerange: 1985-01-01 00:00:00+00:00 to 2015-01-01 00:00:00+00:00\n",
       "         ,\n",
       " \n",
       "         Oceanum CMIP6 SWAN ACCESS-CM2 New Zealand projections ssp245 wave parameters [oceanum_cmip6_swan_nz_access_cm2_ssp245_r1i1p1f1_grid]\n",
       "             Extent: (165.0, -48.0, 180.0, -34.0)\n",
       "             Timerange: 2015-01-01 00:00:00+00:00 to 2100-01-01 00:00:00+00:00\n",
       "         ,\n",
       " \n",
       "         Oceanum CMIP6 SWAN ACCESS-CM2 New Zealand projections ssp370 wave parameters [oceanum_cmip6_swan_nz_access_cm2_ssp370_r1i1p1f1_grid]\n",
       "             Extent: (165.0, -48.0, 180.0, -34.0)\n",
       "             Timerange: 2015-01-01 00:00:00+00:00 to 2100-01-01 00:00:00+00:00\n",
       "         ,\n",
       " \n",
       "         Oceanum CMIP6 SWAN EC-Earth3 New Zealand historical wave parameters [oceanum_cmip6_swan_nz_ec_earth3_historical_r1i1p1f1_grid]\n",
       "             Extent: (165.0, -48.0, 180.0, -34.0)\n",
       "             Timerange: 1985-01-01 00:00:00+00:00 to 2015-01-01 00:00:00+00:00\n",
       "         ,\n",
       " \n",
       "         Oceanum CMIP6 SWAN EC-Earth3 New Zealand projections ssp245 wave parameters [oceanum_cmip6_swan_nz_ec_earth3_ssp245_r1i1p1f1_grid]\n",
       "             Extent: (165.0, -48.0, 180.0, -34.0)\n",
       "             Timerange: 2015-01-01 00:00:00+00:00 to 2100-01-01 00:00:00+00:00\n",
       "         ,\n",
       " \n",
       "         Oceanum CMIP6 SWAN EC-Earth3 New Zealand projections ssp370 wave parameters [oceanum_cmip6_swan_nz_ec_earth3_ssp370_r1i1p1f1_grid]\n",
       "             Extent: (165.0, -48.0, 180.0, -34.0)\n",
       "             Timerange: 2015-01-01 00:00:00+00:00 to 2100-01-01 00:00:00+00:00\n",
       "         ]"
      ]
     },
     "execution_count": 6,
     "metadata": {},
     "output_type": "execute_result"
    }
   ],
   "source": [
    "cat = conn.get_catalog(\"tags:occ&cmip6&swan&nz&parameters\")\n",
    "\n",
    "print(f\"Found {len(list(cat))} SWAN NZ parameter datasets\")\n",
    "\n",
    "list(cat)"
   ]
  },
  {
   "cell_type": "markdown",
   "id": "cell-13",
   "metadata": {},
   "source": [
    "**Example 3**: Search for all gridded wave statistics datasets\n"
   ]
  },
  {
   "cell_type": "code",
   "execution_count": 7,
   "id": "cell-14",
   "metadata": {},
   "outputs": [
    {
     "name": "stdout",
     "output_type": "stream",
     "text": [
      "Using datamesh API version 0\n",
      "You are using version 1.0.8 of oceanum_python. A new version is available: 1.0.9. Please update your client to benefit from the latest features and updates.\n",
      "Found 12 gridded wave statistics datasets\n"
     ]
    },
    {
     "data": {
      "text/plain": [
       "[\n",
       "         Oceanum CMIP6 SWAN EC-Earth3 New Zealand projections ssp370 gridded wave stats [oceanum_cmip6_swan_nz_ec_earth3_ssp370_r1i1p1f1_gridstats]\n",
       "             Extent: (165.0, -48.0, 180.0, -34.0)\n",
       "             Timerange: 2015-01-01 00:00:00+00:00 to 2100-01-01 00:00:00+00:00\n",
       "         ,\n",
       " \n",
       "         Oceanum CMIP6 SWAN ACCESS-CM2 New Zealand historical gridded wave stats [oceanum_cmip6_swan_nz_access_cm2_historical_r1i1p1f1_gridstats]\n",
       "             Extent: (165.0, -48.0, 180.0, -34.0)\n",
       "             Timerange: 1985-01-01 00:00:00+00:00 to 2015-01-01 00:00:00+00:00\n",
       "         ,\n",
       " \n",
       "         Oceanum CMIP6 SWAN ACCESS-CM2 New Zealand projections ssp245 gridded wave stats [oceanum_cmip6_swan_nz_access_cm2_ssp245_r1i1p1f1_gridstats]\n",
       "             Extent: (165.0, -48.0, 180.0, -34.0)\n",
       "             Timerange: 2015-01-01 00:00:00+00:00 to 2100-01-01 00:00:00+00:00\n",
       "         ,\n",
       " \n",
       "         Oceanum CMIP6 SWAN ACCESS-CM2 New Zealand projections ssp370 gridded wave stats [oceanum_cmip6_swan_nz_access_cm2_ssp370_r1i1p1f1_gridstats]\n",
       "             Extent: (165.0, -48.0, 180.0, -34.0)\n",
       "             Timerange: 2015-01-01 00:00:00+00:00 to 2100-01-01 00:00:00+00:00\n",
       "         ,\n",
       " \n",
       "         Oceanum CMIP6 WW3 EC-Earth3 global historical gridded wave stats [oceanum_cmip6_ww3_global_ec_earth3_historical_r1i1p1f1_gridstats]\n",
       "             Extent: (0.0, -78.0, 360.0, 78.0)\n",
       "             Timerange: 1985-01-01 00:00:00+00:00 to 2015-01-01 00:00:00+00:00\n",
       "         ,\n",
       " \n",
       "         Oceanum CMIP6 WW3 EC-Earth3 global projections ssp245 gridded wave stats [oceanum_cmip6_ww3_global_ec_earth3_ssp245_r1i1p1f1_gridstats]\n",
       "             Extent: (0.0, -78.0, 360.0, 78.0)\n",
       "             Timerange: 2015-01-01 00:00:00+00:00 to 2100-01-01 00:00:00+00:00\n",
       "         ,\n",
       " \n",
       "         Oceanum CMIP6 WW3 EC-Earth3 global projections ssp370 gridded wave stats [oceanum_cmip6_ww3_global_ec_earth3_ssp370_r1i1p1f1_gridstats]\n",
       "             Extent: (0.0, -78.0, 360.0, 78.0)\n",
       "             Timerange: 2015-01-01 00:00:00+00:00 to 2100-01-01 00:00:00+00:00\n",
       "         ,\n",
       " \n",
       "         Oceanum CMIP6 WW3 ACCESS-CM2 global historical gridded wave stats [oceanum_cmip6_ww3_global_access_cm2_historical_r1i1p1f1_gridstats]\n",
       "             Extent: (0.0, -78.0, 360.0, 78.0)\n",
       "             Timerange: 1985-01-01 00:00:00+00:00 to 2015-01-01 00:00:00+00:00\n",
       "         ,\n",
       " \n",
       "         Oceanum CMIP6 WW3 ACCESS-CM2 global projections ssp245 gridded wave stats [oceanum_cmip6_ww3_global_access_cm2_ssp245_r1i1p1f1_gridstats]\n",
       "             Extent: (0.0, -78.0, 360.0, 78.0)\n",
       "             Timerange: 2015-01-01 00:00:00+00:00 to 2100-01-01 00:00:00+00:00\n",
       "         ,\n",
       " \n",
       "         Oceanum CMIP6 WW3 ACCESS-CM2 global projections ssp370 gridded wave stats [oceanum_cmip6_ww3_global_access_cm2_ssp370_r1i1p1f1_gridstats]\n",
       "             Extent: (0.0, -78.0, 360.0, 78.0)\n",
       "             Timerange: 2015-01-01 00:00:00+00:00 to 2100-01-01 00:00:00+00:00\n",
       "         ,\n",
       " \n",
       "         Oceanum CMIP6 SWAN EC-Earth3 New Zealand historical gridded wave stats [oceanum_cmip6_swan_nz_ec_earth3_historical_r1i1p1f1_gridstats]\n",
       "             Extent: (165.0, -48.0, 180.0, -34.0)\n",
       "             Timerange: 1985-01-01 00:00:00+00:00 to 2015-01-01 00:00:00+00:00\n",
       "         ,\n",
       " \n",
       "         Oceanum CMIP6 SWAN EC-Earth3 New Zealand projections ssp245 gridded wave stats [oceanum_cmip6_swan_nz_ec_earth3_ssp245_r1i1p1f1_gridstats]\n",
       "             Extent: (165.0, -48.0, 180.0, -34.0)\n",
       "             Timerange: 2015-01-01 00:00:00+00:00 to 2100-01-01 00:00:00+00:00\n",
       "         ]"
      ]
     },
     "execution_count": 7,
     "metadata": {},
     "output_type": "execute_result"
    }
   ],
   "source": [
    "cat = Connector().get_catalog(\"tags:occ&cmip6&wave&gridstats\")\n",
    "\n",
    "print(f\"Found {len(list(cat))} gridded wave statistics datasets\")\n",
    "\n",
    "list(cat)"
   ]
  },
  {
   "cell_type": "markdown",
   "id": "cell-15",
   "metadata": {},
   "source": [
    "## 3. Understanding Dataset Types\n",
    "\n",
    "From the search results, you can see three main types of wave datasets:\n",
    "\n",
    "1. **Parameters** (`_grid`): Raw wave parameters like significant wave height, peak period, mean direction\n",
    "2. **Spectra** (`_spectra`): Full 2D wave energy spectra (frequency × direction)\n",
    "3. **Gridstats** (`_gridstats`): Statistical summaries and derived metrics\n",
    "\n",
    "### Key Differences:\n",
    "- **Parameters**: Best for general wave climate analysis, coastal engineering applications\n",
    "- **Spectra**: Required for detailed wave energy analysis, wave transformation studies\n",
    "- **Gridstats**: Useful for climate change impact assessments, statistical analysis\n"
   ]
  },
  {
   "cell_type": "markdown",
   "id": "cell-16",
   "metadata": {},
   "source": [
    "## 4. Inspecting Dataset Metadata\n",
    "\n",
    "Each dataset in the catalog is represented by a [Datasource](https://oceanum-python.readthedocs.io/en/latest/classes/datamesh/oceanum.datamesh.Datasource.html#oceanum.datamesh.Datasource) object containing comprehensive metadata.\n"
   ]
  },
  {
   "cell_type": "markdown",
   "id": "cell-17",
   "metadata": {},
   "source": [
    "### 4.1 Getting a Specific Dataset\n",
    "\n",
    "You can retrieve a specific dataset either from search results:\n"
   ]
  },
  {
   "cell_type": "code",
   "execution_count": 8,
   "id": "cell-18",
   "metadata": {},
   "outputs": [
    {
     "name": "stdout",
     "output_type": "stream",
     "text": [
      "Dataset from search results:\n",
      "\n",
      "        Oceanum CMIP6 SWAN EC-Earth3 New Zealand projections ssp370 gridded wave stats [oceanum_cmip6_swan_nz_ec_earth3_ssp370_r1i1p1f1_gridstats]\n",
      "            Extent: (165.0, -48.0, 180.0, -34.0)\n",
      "            Timerange: 2015-01-01 00:00:00+00:00 to 2100-01-01 00:00:00+00:00\n",
      "        \n"
     ]
    }
   ],
   "source": [
    "# Get the first dataset from our search results\n",
    "\n",
    "ds = list(cat)[0]\n",
    "\n",
    "print(\"Dataset from search results:\")\n",
    "\n",
    "print(ds)"
   ]
  },
  {
   "cell_type": "markdown",
   "id": "cell-19",
   "metadata": {},
   "source": [
    "Or get a dataset directly by its ID. In this example, we'll examine in detail the output from a **SWAN gridded parameters** dataset.\n"
   ]
  },
  {
   "cell_type": "code",
   "execution_count": 10,
   "id": "cell-20",
   "metadata": {},
   "outputs": [
    {
     "name": "stdout",
     "output_type": "stream",
     "text": [
      "Dataset retrieved by ID:\n",
      "\n",
      "        Oceanum CMIP6 SWAN ACCESS-CM2 New Zealand historical wave parameters [oceanum_cmip6_swan_nz_access_cm2_historical_r1i1p1f1_grid]\n",
      "            Extent: (165.0, -48.0, 180.0, -34.0)\n",
      "            Timerange: 1985-01-01 00:00:00+00:00 to 2015-01-01 00:00:00+00:00\n",
      "            8 attributes\n",
      "            28 variables\n",
      "        \n"
     ]
    }
   ],
   "source": [
    "ds = conn.get_datasource(\"oceanum_cmip6_swan_nz_access_cm2_historical_r1i1p1f1_grid\")\n",
    "\n",
    "print(\"Dataset retrieved by ID:\")\n",
    "\n",
    "print(ds)"
   ]
  },
  {
   "cell_type": "markdown",
   "id": "cell-21",
   "metadata": {},
   "source": [
    "### 4.2 Essential Dataset Attributes\n",
    "\n",
    "Let's explore the key metadata attributes that help you understand and work with the dataset:\n"
   ]
  },
  {
   "cell_type": "markdown",
   "id": "cell-22",
   "metadata": {},
   "source": [
    "**Dataset ID** (unique identifier):\n"
   ]
  },
  {
   "cell_type": "code",
   "execution_count": 11,
   "id": "cell-23",
   "metadata": {},
   "outputs": [
    {
     "name": "stdout",
     "output_type": "stream",
     "text": [
      "Dataset ID: oceanum_cmip6_swan_nz_access_cm2_historical_r1i1p1f1_grid\n"
     ]
    }
   ],
   "source": [
    "print(\"Dataset ID:\", ds.id)"
   ]
  },
  {
   "cell_type": "markdown",
   "id": "cell-24",
   "metadata": {},
   "source": [
    "**Human-readable name**:\n"
   ]
  },
  {
   "cell_type": "code",
   "execution_count": 12,
   "id": "cell-25",
   "metadata": {},
   "outputs": [
    {
     "name": "stdout",
     "output_type": "stream",
     "text": [
      "Dataset Name: Oceanum CMIP6 SWAN ACCESS-CM2 New Zealand historical wave parameters\n"
     ]
    }
   ],
   "source": [
    "print(\"Dataset Name:\", ds.name)"
   ]
  },
  {
   "cell_type": "markdown",
   "id": "cell-26",
   "metadata": {},
   "source": [
    "**Detailed description**:\n"
   ]
  },
  {
   "cell_type": "code",
   "execution_count": 13,
   "id": "cell-27",
   "metadata": {},
   "outputs": [
    {
     "name": "stdout",
     "output_type": "stream",
     "text": [
      "Description:\n",
      "New Zealand gridded wave parameters from Oceanum SWAN driven by NIWA CCAM downscaled ACCESS-CM2 winds and WW3 global\n",
      "boundary spectra under CMIP6 historical simulations (r1i1p1f1 ensemble member). This dataset provides comprehensive wave\n",
      "parameters for the full and partitioned spectra on a 5km New Zealand grid for climate research and oceanographic\n",
      "applications as part of the Our Changing Coast project.\n"
     ]
    }
   ],
   "source": [
    "print(\"Description:\")\n",
    "\n",
    "print(textwrap.fill(ds.description, width=120))"
   ]
  },
  {
   "cell_type": "markdown",
   "id": "cell-28",
   "metadata": {},
   "source": [
    "**Available variables** (wave parameters):\n"
   ]
  },
  {
   "cell_type": "code",
   "execution_count": 14,
   "id": "cell-29",
   "metadata": {},
   "outputs": [
    {
     "name": "stdout",
     "output_type": "stream",
     "text": [
      "Available Variables:\n",
      "Total: 28 variables\n",
      "Variables: ['hs', 'dpm', 'tps', 'botl', 'dspr', 'fspr', 'hsea', 'hswe', 'phs0', 'phs1', 'ptp0', 'ptp1', 'tm01', 'tm02', 'xcur', 'xwnd', 'ycur', 'ywnd', 'pdir0', 'pdir1', 'dpmsea', 'dpmswe', 'pdspr0', 'pdspr1', 'pwlen0', 'pwlen1', 'tpssea', 'tpsswe']\n"
     ]
    }
   ],
   "source": [
    "print(\"Available Variables:\")\n",
    "\n",
    "variables = list(ds.variables.keys())\n",
    "\n",
    "print(f\"Total: {len(variables)} variables\")\n",
    "\n",
    "print(\"Variables:\", variables)"
   ]
  },
  {
   "cell_type": "markdown",
   "id": "cell-30",
   "metadata": {},
   "source": [
    "### 4.3 Temporal Coverage\n"
   ]
  },
  {
   "cell_type": "code",
   "execution_count": 15,
   "id": "cell-31",
   "metadata": {},
   "outputs": [
    {
     "name": "stdout",
     "output_type": "stream",
     "text": [
      "Time Coverage:\n",
      "Start: 1985-01-01 00:00:00+00:00\n",
      "End: 2015-01-01 00:00:00+00:00\n",
      "Duration: 30 years\n"
     ]
    }
   ],
   "source": [
    "print(\"Time Coverage:\")\n",
    "\n",
    "print(f\"Start: {ds.tstart}\")\n",
    "\n",
    "print(f\"End: {ds.tend}\")\n",
    "\n",
    "print(f\"Duration: {ds.tend.year - ds.tstart.year} years\")"
   ]
  },
  {
   "cell_type": "markdown",
   "id": "cell-32",
   "metadata": {},
   "source": [
    "### 4.4 Spatial Coverage\n"
   ]
  },
  {
   "cell_type": "code",
   "execution_count": 16,
   "id": "cell-33",
   "metadata": {},
   "outputs": [
    {
     "name": "stdout",
     "output_type": "stream",
     "text": [
      "Spatial Extent (West, South, East, North):\n",
      "Longitude: 165.0° to 180.0°\n",
      "Latitude: -48.0° to -34.0°\n"
     ]
    }
   ],
   "source": [
    "print(\"Spatial Extent (West, South, East, North):\")\n",
    "\n",
    "bounds = ds.geom.bounds\n",
    "\n",
    "print(f\"Longitude: {bounds[0]}° to {bounds[2]}°\")\n",
    "\n",
    "print(f\"Latitude: {bounds[1]}° to {bounds[3]}°\")"
   ]
  },
  {
   "cell_type": "markdown",
   "id": "cell-34",
   "metadata": {},
   "source": [
    "### 4.5 Coordinate System\n"
   ]
  },
  {
   "cell_type": "code",
   "execution_count": 17,
   "id": "cell-35",
   "metadata": {},
   "outputs": [
    {
     "name": "stdout",
     "output_type": "stream",
     "text": [
      "Coordinate Mapping:\n",
      "  t → time\n",
      "  x → longitude\n",
      "  y → latitude\n"
     ]
    }
   ],
   "source": [
    "print(\"Coordinate Mapping:\")\n",
    "\n",
    "for key, value in ds.coordinates.items():\n",
    "    print(f\"  {key} → {value}\")"
   ]
  },
  {
   "cell_type": "markdown",
   "id": "cell-36",
   "metadata": {},
   "source": [
    "## 5. Detailed Data Schema Inspection\n",
    "\n",
    "The data schema provides complete information about the dataset structure, including dimensions, coordinates, and variable attributes:\n"
   ]
  },
  {
   "cell_type": "code",
   "execution_count": 18,
   "id": "cell-37",
   "metadata": {},
   "outputs": [
    {
     "name": "stdout",
     "output_type": "stream",
     "text": [
      "Dataset Dimensions:\n",
      "  time: 87657\n",
      "  latitude: 281\n",
      "  longitude: 301\n",
      "\n",
      "Total data points: 7,414,116,717\n"
     ]
    }
   ],
   "source": [
    "schema = ds.dataschema.model_dump()\n",
    "\n",
    "print(\"Dataset Dimensions:\")\n",
    "\n",
    "for dim, size in schema['dims'].items():\n",
    "    print(f\"  {dim}: {size}\")\n",
    "\n",
    "print(f\"\\nTotal data points: {schema['dims']['time'] * schema['dims']['latitude'] * schema['dims']['longitude']:,}\")\n"
   ]
  },
  {
   "cell_type": "markdown",
   "id": "cell-38",
   "metadata": {},
   "source": [
    "### 5.1 Variable Details\n",
    "\n",
    "Let's examine a few key wave variables in detail:\n"
   ]
  },
  {
   "cell_type": "code",
   "execution_count": 19,
   "id": "cell-39",
   "metadata": {},
   "outputs": [
    {
     "name": "stdout",
     "output_type": "stream",
     "text": [
      "Key Wave Variables:\n",
      "--------------------------------------------------------------------------------\n",
      "\n",
      "HS:\n",
      "  Name: significant height of wind and swell waves\n",
      "  Units: m\n",
      "  Range: 0.0 - 50.0\n",
      "  CF Standard Name: sea_surface_wave_significant_height\n",
      "\n",
      "DPM:\n",
      "  Name: mean direction at the spectral peak of wind and swell waves\n",
      "  Units: degree\n",
      "  Range: 0.0 - 360.0\n",
      "  CF Standard Name: sea_surface_wave_from_direction_at_variance_spectral_density_maximum\n",
      "\n",
      "TPS:\n",
      "  Name: smooth relative peak wave period of wind and swell waves\n",
      "  Units: s\n",
      "  Range: 0.0 - 50.0\n",
      "  CF Standard Name: sea_surface_wave_period_at_variance_spectral_density_maximum\n",
      "\n",
      "TM01:\n",
      "  Name: mean absolute wave period of wind and swell waves from the first frequency moment\n",
      "  Units: s\n",
      "  Range: 0.0 - 50.0\n",
      "  CF Standard Name: sea_surface_wave_mean_period_from_variance_spectral_density_first_frequency_moment\n",
      "\n",
      "TM02:\n",
      "  Name: mean absolute wave period of wind and swell waves from the second frequency moment\n",
      "  Units: s\n",
      "  Range: 0.0 - 50.0\n",
      "  CF Standard Name: sea_surface_wave_mean_period_from_variance_spectral_density_second_frequency_moment\n"
     ]
    }
   ],
   "source": [
    "# Key wave parameters to highlight\n",
    "key_variables = ['hs', 'dpm', 'tps', 'tm01', 'tm02']\n",
    "\n",
    "print(\"Key Wave Variables:\")\n",
    "print(\"-\" * 80)\n",
    "\n",
    "for var in key_variables:\n",
    "    if var in schema['data_vars']:\n",
    "        var_info = schema['data_vars'][var]\n",
    "        print(f\"\\n{var.upper()}:\")\n",
    "        print(f\"  Name: {var_info['attrs']['long_name']}\")\n",
    "        print(f\"  Units: {var_info['attrs']['units']}\")\n",
    "        print(f\"  Range: {var_info['attrs']['valid_min']} - {var_info['attrs']['valid_max']}\")\n",
    "        if 'standard_name' in var_info['attrs']:\n",
    "            print(f\"  CF Standard Name: {var_info['attrs']['standard_name']}\")\n"
   ]
  },
  {
   "cell_type": "markdown",
   "id": "cell-40",
   "metadata": {},
   "source": [
    "### 5.2 Understanding Wave Variable Categories\n",
    "\n",
    "The dataset contains several categories of wave variables:\n"
   ]
  },
  {
   "cell_type": "code",
   "execution_count": 20,
   "id": "cell-41",
   "metadata": {},
   "outputs": [
    {
     "name": "stdout",
     "output_type": "stream",
     "text": [
      "Wave Variable Categories:\n",
      "==================================================\n",
      "\n",
      "Total Wave Parameters:\n",
      "  • hs: significant height of wind and swell waves (m)\n",
      "  • dpm: mean direction at the spectral peak of wind and swell waves (degree)\n",
      "  • tps: smooth relative peak wave period of wind and swell waves (s)\n",
      "  • dspr: directional spreading of wind and swell waves (degree)\n",
      "  • fspr: normalized width of the frequency spectrum of wind and swell waves (1)\n",
      "  • tm01: mean absolute wave period of wind and swell waves from the first frequency moment (s)\n",
      "  • tm02: mean absolute wave period of wind and swell waves from the second frequency moment (s)\n",
      "\n",
      "Wind Wave Parameters:\n",
      "  • hsea: significant height of wind waves under 8 seconds period (m)\n",
      "  • dpmsea: mean direction at the spectral peak of wind waves below 8 seconds period (degree)\n",
      "  • tpssea: smooth relative peak wave period of wind waves below 8 seconds period (s)\n",
      "  • phs0: sea surface wind wave significant height (m)\n",
      "  • ptp0: sea surface wind wave period at variance spectral density maximum (s)\n",
      "  • pdir0: sea surface wind wave mean from direction (degree)\n",
      "  • pdspr0: directional spreading of wind waves (degree)\n",
      "  • pwlen0: mean wavelength of wind waves (m)\n",
      "\n",
      "Swell Wave Parameters:\n",
      "  • hswe: significant height of swell waves above 8 seconds period (m)\n",
      "  • dpmswe: mean direction at the spectral peak of swell waves above 8 seconds period (degree)\n",
      "  • tpsswe: smooth relative peak wave period of swell waves above 8 seconds period (s)\n",
      "  • phs1: sea surface primary_swell wave significant height (m)\n",
      "  • ptp1: sea surface primary swell wave period at variance spectral density maximum (s)\n",
      "  • pdir1: sea surface primary swell wave mean from direction (degree)\n",
      "  • pdspr1: directional spreading of primary swell waves (degree)\n",
      "\n",
      "Environmental Forcing:\n",
      "  • xwnd: eastward component of wind velocity (m s-1)\n",
      "  • ywnd: northward component of wind velocity (m s-1)\n",
      "  • xcur: eastward component of current velocity (m s-1)\n",
      "  • ycur: northward component of current velocity (m s-1)\n",
      "  • botl: depth below mean sea level (m)\n"
     ]
    }
   ],
   "source": [
    "# Categorize variables for better understanding\n",
    "wave_categories = {\n",
    "    'Total Wave Parameters': ['hs', 'dpm', 'tps', 'dspr', 'fspr', 'tm01', 'tm02'],\n",
    "    'Wind Wave Parameters': ['hsea', 'dpmsea', 'tpssea', 'phs0', 'ptp0', 'pdir0', 'pdspr0', 'pwlen0'],\n",
    "    'Swell Wave Parameters': ['hswe', 'dpmswe', 'tpsswe', 'phs1', 'ptp1', 'pdir1', 'pdspr1'],\n",
    "    'Environmental Forcing': ['xwnd', 'ywnd', 'xcur', 'ycur', 'botl']\n",
    "}\n",
    "\n",
    "print(\"Wave Variable Categories:\")\n",
    "print(\"=\" * 50)\n",
    "\n",
    "for category, vars_list in wave_categories.items():\n",
    "    print(f\"\\n{category}:\")\n",
    "    available_vars = [v for v in vars_list if v in ds.variables.keys()]\n",
    "    for var in available_vars:\n",
    "        if var in schema['data_vars']:\n",
    "            long_name = schema['data_vars'][var]['attrs']['long_name']\n",
    "            units = schema['data_vars'][var]['attrs']['units']\n",
    "            print(f\"  • {var}: {long_name} ({units})\")\n"
   ]
  },
  {
   "cell_type": "markdown",
   "id": "cell-42",
   "metadata": {},
   "source": [
    "## 6. Summary and Next Steps\n",
    "\n",
    "### What We've Covered\n",
    "\n",
    "1. **Connection Setup**: How to connect to Datamesh using the Oceanum Python client\n",
    "2. **Search Strategies**: Different approaches to find relevant wave datasets\n",
    "3. **Dataset Types**: Understanding parameters, spectra, and gridstats datasets\n",
    "4. **Metadata Inspection**: Exploring dataset attributes, coverage, and structure\n",
    "5. **Variable Understanding**: Categorizing and interpreting wave parameters\n",
    "\n",
    "### Recommended Next Steps\n",
    "\n",
    "1. **Data Access**: Learn how to actually download and work with the data using `conn.get_data()`\n",
    "2. **Spatial/Temporal Filtering**: Practice subsetting data for specific regions and time periods\n",
    "3. **Data Analysis**: Explore wave climate patterns, trends, and statistics\n",
    "4. **Visualization**: Create maps and time series plots of wave parameters\n",
    "\n",
    "### Key Takeaways for New Users\n",
    "\n",
    "- Start with **parameter datasets** (`_grid`) for general wave analysis\n",
    "- Use **tag-based searches** for precise dataset discovery\n",
    "- Always inspect **metadata** before downloading large datasets\n",
    "- Consider **spatial and temporal coverage** when selecting datasets\n",
    "- Understand the difference between **historical** and **projection** scenarios\n",
    "\n",
    "### Getting Help\n",
    "\n",
    "- [Oceanum Python Documentation](https://oceanum-python.readthedocs.io/en/latest/)\n",
    "- [Datamesh API Reference](https://oceanum-python.readthedocs.io/en/latest/classes/datamesh/)\n",
    "- Contact Oceanum support for specific questions about datasets\n"
   ]
  }
 ],
 "metadata": {
  "kernelspec": {
   "display_name": "oceanum",
   "language": "python",
   "name": "python3"
  },
  "language_info": {
   "codemirror_mode": {
    "name": "ipython",
    "version": 3
   },
   "file_extension": ".py",
   "mimetype": "text/x-python",
   "name": "python",
   "nbconvert_exporter": "python",
   "pygments_lexer": "ipython3",
   "version": "3.10.12"
  }
 },
 "nbformat": 4,
 "nbformat_minor": 5
}
